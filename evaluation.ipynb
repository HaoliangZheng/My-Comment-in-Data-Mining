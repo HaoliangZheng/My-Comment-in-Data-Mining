{
 "cells": [
  {
   "cell_type": "markdown",
   "metadata": {},
   "source": [
    "## 模型评价及相关指标"
   ]
  },
  {
   "cell_type": "markdown",
   "metadata": {},
   "source": [
    "### 1. 推广误差及期望推广误差"
   ]
  },
  {
   "cell_type": "markdown",
   "metadata": {},
   "source": [
    "记基于样本$L,$ 我们通过某个方法或者算法, 例如最小二乘法得到模型$h(x；L).$\n",
    "- 推广误差为\n",
    "  $$E_{x,y}(y-h(x;L))^2.$$\n",
    "- 期望推广误差为\n",
    "  $$E_{L}[E_{x,y}(y-h(x;L))^2].$$"
   ]
  },
  {
   "cell_type": "markdown",
   "metadata": {},
   "source": [
    "### 2. 误差估计方法（测试误差）\n",
    "- 数据挖掘实践中通常按照7:3的比例把原始的样本分为训练集和测试集，基于训练集训练模型，基于测试集评价模型，评价误差被称为测试误差. \n",
    "- 可以认为测试误差在估计推广误差，也可以认为在估计期望推广误差. 如果原始训练集如果大，上述两种看法事实上均可以. 为什么呢？"
   ]
  },
  {
   "cell_type": "markdown",
   "metadata": {},
   "source": [
    "### 3. 交叉验证误差\n",
    "- 交叉验证误差指把原始数据分为$K$折, 每次去掉原始数据中的一折，构建模型，并用去掉的那折评价模型, 最后再把$K$个误差平均. $K$越大， 越接近在评价推广误差，$K$越小（当然不能太小）, 越接近在评价期望推广误差.\n",
    "- 如果不能理解后半句，试着把期望推广误差的定义中两个期望换序."
   ]
  },
  {
   "cell_type": "markdown",
   "metadata": {},
   "source": [
    "### 4. Bootstrap误差\n",
    "- Bootstrap误差和交叉验证误差类似，每次从原始数据中有放回抽取和原始数据样本量大小一致的自助训练集，训练模型，使用原始数据中未进入自助训练集的数据评价模型.\n",
    "- 重复多次，计算平均误差，即Bootstrap误差."
   ]
  },
  {
   "cell_type": "markdown",
   "metadata": {},
   "source": [
    "## 5. AIC\n",
    "- $AIC = n\\log(RSS/n) + 2k + C$\n",
    "- AIC在什么情况下可以用？"
   ]
  },
  {
   "cell_type": "code",
   "execution_count": null,
   "metadata": {
    "collapsed": true
   },
   "outputs": [],
   "source": []
  }
 ],
 "metadata": {
  "anaconda-cloud": {},
  "kernelspec": {
   "display_name": "Python 3",
   "language": "python",
   "name": "python3"
  },
  "language_info": {
   "codemirror_mode": {
    "name": "ipython",
    "version": 3
   },
   "file_extension": ".py",
   "mimetype": "text/x-python",
   "name": "python",
   "nbconvert_exporter": "python",
   "pygments_lexer": "ipython3",
   "version": "3.6.4"
  },
  "latex_envs": {
   "LaTeX_envs_menu_present": true,
   "autoclose": false,
   "autocomplete": true,
   "bibliofile": "biblio.bib",
   "cite_by": "apalike",
   "current_citInitial": 1,
   "eqLabelWithNumbers": true,
   "eqNumInitial": 1,
   "hotkeys": {
    "equation": "Ctrl-E",
    "itemize": "Ctrl-I"
   },
   "labels_anchors": false,
   "latex_user_defs": false,
   "report_style_numbering": false,
   "user_envs_cfg": false
  }
 },
 "nbformat": 4,
 "nbformat_minor": 2
}
